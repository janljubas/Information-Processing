{
  "nbformat": 4,
  "nbformat_minor": 0,
  "metadata": {
    "kernelspec": {
      "display_name": "Python 3",
      "language": "python",
      "name": "python3"
    },
    "language_info": {
      "codemirror_mode": {
        "name": "ipython",
        "version": 3
      },
      "file_extension": ".py",
      "mimetype": "text/x-python",
      "name": "python",
      "nbconvert_exporter": "python",
      "pygments_lexer": "ipython3",
      "version": "3.6.9"
    },
    "colab": {
      "provenance": [],
      "collapsed_sections": [
        "qJsxY4wL8mA5"
      ]
    }
  },
  "cells": [
    {
      "cell_type": "markdown",
      "metadata": {
        "id": "qJsxY4wL8mA5"
      },
      "source": [
        "###Obrada informacija\n",
        "\n",
        "#4. Laboratorijska vježba:  Multivarijatni financijski vremenski nizovi\n",
        "\n",
        "*Siječanj 2023.*\n",
        "\n",
        "##Upute\n",
        "\n",
        "U ovoj bilježnici dana je priprema sa svim uputama za 4. laboratorijsku vježbu iz predmeta Obrada informacija - uz bilježnicu su dostupni i podatci u datoteci `ETFprices.csv`. \n",
        "\n",
        "Vaš zadatak je u bilježnicu na odgovarajuća mjesta dopisati kod Vašeg rješenja, te odgovore na zadana pitanja.\n",
        "\n",
        "**Riješenu bilježnicu potrebno je predati kao izvještaj u .pdf formatu na *Moodle* najkasnije do 24.1.2023. u 23:59h. Datoteka koju predajete se mora zvati *PrezimeIme.pdf*.**\n",
        "\n"
      ]
    },
    {
      "cell_type": "markdown",
      "source": [
        "## Uvod\n",
        "\n",
        "U laboratorijskoj vježbi razmatra se dinamika cijena vrijednosnica na financijskim tržištima. Dane su povijesne dnevne cijene 8 ETF-ova (eng. *exchange traded fund*) koji prate određene dioničke, obvezničke ili druge indekse.\n",
        "\n",
        "Ticker | Fond | Klasa imovine\n",
        "--- | --- | ---\n",
        "SPY | SPDR S&P 500 ETF Trust | Equity: U.S. - Large Cap\n",
        "VTI | Vanguard Total Stock Market ETF | Equity: U.S. - Total Market\n",
        "QQQ | Invesco QQQ Trust | Equity: U.S. - Large Cap\n",
        "VEA | Vanguard FTSE Developed Markets ETF | Equity: Developed Markets Ex-U.S. - Total Market\n",
        "AGG | iShares Core U.S. Aggregate Bond ETF | Fixed Income: U.S. - Broad Market, Broad-based Investment Grade\n",
        "BND | Vanguard Total Bond Market ETF | Fixed Income: U.S. - Broad Market, Broad-based Investment Grade\n",
        "LQD | iShares iBoxx USD Investment Grade Corporate Bond ETF | Fixed Income: U.S. - Corporate, Broad-based Investment Grade\n",
        "VCIT | Vanguard Intermediate-Term Corporate Bond ETF | Fixed Income: U.S. - Corporate, Broad-based Investment Grade Intermediate\n",
        "\n",
        "Pri modeliranju zajedničkog kretanja i rizika vrijednosnica, najčešće se koriste povrati:\n",
        "\n",
        "$R(t) = \\frac{S(t)-S(t-1)}{S(t-1)},$\n",
        "\n",
        "gdje je $S(t)$ cijena vrijednosnice u danu $t$. U sklopu ove laboratorijske vježbe cilj je analizirati kretanje danih ETF-ova i izračunati glavne komponente (PCA) koje utječu na njihovu dinamiku. Laboratorijsku vježbu je potrebno riješiti unutar ove bilježnice i predati riješenu bilježnicu kao izvještaj."
      ],
      "metadata": {
        "id": "9IrYICOpFRgG"
      }
    },
    {
      "cell_type": "code",
      "metadata": {
        "id": "Y0gdMrX2oj6v",
        "colab": {
          "base_uri": "https://localhost:8080/",
          "height": 235
        },
        "outputId": "532b5012-3a85-4cbe-9c0a-63e985d7267a"
      },
      "source": [
        "import pandas as pd\n",
        "\n",
        "prices = pd.read_csv('ETFprices.csv')\n",
        "prices.set_index('Time', inplace=True)\n",
        "prices.index = pd.to_datetime(prices.index)\n",
        "\n",
        "prices.head()\n"
      ],
      "execution_count": null,
      "outputs": [
        {
          "output_type": "execute_result",
          "data": {
            "text/plain": [
              "                   SPY         VTI         QQQ        VEA         AGG  \\\n",
              "Time                                                                    \n",
              "2022-01-10  458.078430  231.924240  377.329224  49.100105  109.858536   \n",
              "2022-01-11  462.250763  234.236588  382.997437  49.682655  110.063812   \n",
              "2022-01-12  463.500458  234.600677  384.516266  50.216679  110.063812   \n",
              "2022-01-13  457.114075  231.166565  374.897156  49.857430  110.259331   \n",
              "2022-01-14  457.301086  231.255142  377.229950  49.740917  109.643509   \n",
              "\n",
              "                  BND         LQD       VCIT  \n",
              "Time                                          \n",
              "2022-01-10  81.452065  125.620148  88.636536  \n",
              "2022-01-11  81.617920  125.998177  88.753113  \n",
              "2022-01-12  81.588654  125.910950  88.811386  \n",
              "2022-01-13  81.725235  126.308357  88.976517  \n",
              "2022-01-14  81.276474  125.193680  88.481125  "
            ],
            "text/html": [
              "\n",
              "  <div id=\"df-bafc8feb-73a9-47c1-99ae-f0f1f5383888\">\n",
              "    <div class=\"colab-df-container\">\n",
              "      <div>\n",
              "<style scoped>\n",
              "    .dataframe tbody tr th:only-of-type {\n",
              "        vertical-align: middle;\n",
              "    }\n",
              "\n",
              "    .dataframe tbody tr th {\n",
              "        vertical-align: top;\n",
              "    }\n",
              "\n",
              "    .dataframe thead th {\n",
              "        text-align: right;\n",
              "    }\n",
              "</style>\n",
              "<table border=\"1\" class=\"dataframe\">\n",
              "  <thead>\n",
              "    <tr style=\"text-align: right;\">\n",
              "      <th></th>\n",
              "      <th>SPY</th>\n",
              "      <th>VTI</th>\n",
              "      <th>QQQ</th>\n",
              "      <th>VEA</th>\n",
              "      <th>AGG</th>\n",
              "      <th>BND</th>\n",
              "      <th>LQD</th>\n",
              "      <th>VCIT</th>\n",
              "    </tr>\n",
              "    <tr>\n",
              "      <th>Time</th>\n",
              "      <th></th>\n",
              "      <th></th>\n",
              "      <th></th>\n",
              "      <th></th>\n",
              "      <th></th>\n",
              "      <th></th>\n",
              "      <th></th>\n",
              "      <th></th>\n",
              "    </tr>\n",
              "  </thead>\n",
              "  <tbody>\n",
              "    <tr>\n",
              "      <th>2022-01-10</th>\n",
              "      <td>458.078430</td>\n",
              "      <td>231.924240</td>\n",
              "      <td>377.329224</td>\n",
              "      <td>49.100105</td>\n",
              "      <td>109.858536</td>\n",
              "      <td>81.452065</td>\n",
              "      <td>125.620148</td>\n",
              "      <td>88.636536</td>\n",
              "    </tr>\n",
              "    <tr>\n",
              "      <th>2022-01-11</th>\n",
              "      <td>462.250763</td>\n",
              "      <td>234.236588</td>\n",
              "      <td>382.997437</td>\n",
              "      <td>49.682655</td>\n",
              "      <td>110.063812</td>\n",
              "      <td>81.617920</td>\n",
              "      <td>125.998177</td>\n",
              "      <td>88.753113</td>\n",
              "    </tr>\n",
              "    <tr>\n",
              "      <th>2022-01-12</th>\n",
              "      <td>463.500458</td>\n",
              "      <td>234.600677</td>\n",
              "      <td>384.516266</td>\n",
              "      <td>50.216679</td>\n",
              "      <td>110.063812</td>\n",
              "      <td>81.588654</td>\n",
              "      <td>125.910950</td>\n",
              "      <td>88.811386</td>\n",
              "    </tr>\n",
              "    <tr>\n",
              "      <th>2022-01-13</th>\n",
              "      <td>457.114075</td>\n",
              "      <td>231.166565</td>\n",
              "      <td>374.897156</td>\n",
              "      <td>49.857430</td>\n",
              "      <td>110.259331</td>\n",
              "      <td>81.725235</td>\n",
              "      <td>126.308357</td>\n",
              "      <td>88.976517</td>\n",
              "    </tr>\n",
              "    <tr>\n",
              "      <th>2022-01-14</th>\n",
              "      <td>457.301086</td>\n",
              "      <td>231.255142</td>\n",
              "      <td>377.229950</td>\n",
              "      <td>49.740917</td>\n",
              "      <td>109.643509</td>\n",
              "      <td>81.276474</td>\n",
              "      <td>125.193680</td>\n",
              "      <td>88.481125</td>\n",
              "    </tr>\n",
              "  </tbody>\n",
              "</table>\n",
              "</div>\n",
              "      <button class=\"colab-df-convert\" onclick=\"convertToInteractive('df-bafc8feb-73a9-47c1-99ae-f0f1f5383888')\"\n",
              "              title=\"Convert this dataframe to an interactive table.\"\n",
              "              style=\"display:none;\">\n",
              "        \n",
              "  <svg xmlns=\"http://www.w3.org/2000/svg\" height=\"24px\"viewBox=\"0 0 24 24\"\n",
              "       width=\"24px\">\n",
              "    <path d=\"M0 0h24v24H0V0z\" fill=\"none\"/>\n",
              "    <path d=\"M18.56 5.44l.94 2.06.94-2.06 2.06-.94-2.06-.94-.94-2.06-.94 2.06-2.06.94zm-11 1L8.5 8.5l.94-2.06 2.06-.94-2.06-.94L8.5 2.5l-.94 2.06-2.06.94zm10 10l.94 2.06.94-2.06 2.06-.94-2.06-.94-.94-2.06-.94 2.06-2.06.94z\"/><path d=\"M17.41 7.96l-1.37-1.37c-.4-.4-.92-.59-1.43-.59-.52 0-1.04.2-1.43.59L10.3 9.45l-7.72 7.72c-.78.78-.78 2.05 0 2.83L4 21.41c.39.39.9.59 1.41.59.51 0 1.02-.2 1.41-.59l7.78-7.78 2.81-2.81c.8-.78.8-2.07 0-2.86zM5.41 20L4 18.59l7.72-7.72 1.47 1.35L5.41 20z\"/>\n",
              "  </svg>\n",
              "      </button>\n",
              "      \n",
              "  <style>\n",
              "    .colab-df-container {\n",
              "      display:flex;\n",
              "      flex-wrap:wrap;\n",
              "      gap: 12px;\n",
              "    }\n",
              "\n",
              "    .colab-df-convert {\n",
              "      background-color: #E8F0FE;\n",
              "      border: none;\n",
              "      border-radius: 50%;\n",
              "      cursor: pointer;\n",
              "      display: none;\n",
              "      fill: #1967D2;\n",
              "      height: 32px;\n",
              "      padding: 0 0 0 0;\n",
              "      width: 32px;\n",
              "    }\n",
              "\n",
              "    .colab-df-convert:hover {\n",
              "      background-color: #E2EBFA;\n",
              "      box-shadow: 0px 1px 2px rgba(60, 64, 67, 0.3), 0px 1px 3px 1px rgba(60, 64, 67, 0.15);\n",
              "      fill: #174EA6;\n",
              "    }\n",
              "\n",
              "    [theme=dark] .colab-df-convert {\n",
              "      background-color: #3B4455;\n",
              "      fill: #D2E3FC;\n",
              "    }\n",
              "\n",
              "    [theme=dark] .colab-df-convert:hover {\n",
              "      background-color: #434B5C;\n",
              "      box-shadow: 0px 1px 3px 1px rgba(0, 0, 0, 0.15);\n",
              "      filter: drop-shadow(0px 1px 2px rgba(0, 0, 0, 0.3));\n",
              "      fill: #FFFFFF;\n",
              "    }\n",
              "  </style>\n",
              "\n",
              "      <script>\n",
              "        const buttonEl =\n",
              "          document.querySelector('#df-bafc8feb-73a9-47c1-99ae-f0f1f5383888 button.colab-df-convert');\n",
              "        buttonEl.style.display =\n",
              "          google.colab.kernel.accessAllowed ? 'block' : 'none';\n",
              "\n",
              "        async function convertToInteractive(key) {\n",
              "          const element = document.querySelector('#df-bafc8feb-73a9-47c1-99ae-f0f1f5383888');\n",
              "          const dataTable =\n",
              "            await google.colab.kernel.invokeFunction('convertToInteractive',\n",
              "                                                     [key], {});\n",
              "          if (!dataTable) return;\n",
              "\n",
              "          const docLinkHtml = 'Like what you see? Visit the ' +\n",
              "            '<a target=\"_blank\" href=https://colab.research.google.com/notebooks/data_table.ipynb>data table notebook</a>'\n",
              "            + ' to learn more about interactive tables.';\n",
              "          element.innerHTML = '';\n",
              "          dataTable['output_type'] = 'display_data';\n",
              "          await google.colab.output.renderOutput(dataTable, element);\n",
              "          const docLink = document.createElement('div');\n",
              "          docLink.innerHTML = docLinkHtml;\n",
              "          element.appendChild(docLink);\n",
              "        }\n",
              "      </script>\n",
              "    </div>\n",
              "  </div>\n",
              "  "
            ]
          },
          "metadata": {},
          "execution_count": 1
        }
      ]
    },
    {
      "cell_type": "markdown",
      "metadata": {
        "id": "l3WCkur18mBD"
      },
      "source": [
        "# Zadatak 1 - Računanje korelacijske matrice i matrice kovarijance povrata"
      ]
    },
    {
      "cell_type": "markdown",
      "metadata": {
        "id": "5LQFOnwx8mBD"
      },
      "source": [
        "1.1. U prvom zadatku ove laboratorijske vježbe potrebno je prvo iz danih cijena (gore učitanih u Pandas DataFrame) izračunati dnevne povrate za sve pojedine vrijednosnice (prateći formulu danu u uvodu). \n",
        "\n",
        "Izračunajte srednje povrate i volatilnost (standardnu devijaciju povrata) za svaku pojedinu vrijednosnicu. Pri analizi srednjih povrata i volatilnosti, te se brojke često *anualiziraju* - to znači da se srednji povrati pomnože s $252$ (cca. broj trgovinskih dana u godini), a volatilnost s $\\sqrt{252}$. Izračunajte anualizirane srednje povrate i volatilnosti te rezultate ispišite u konzolu. \n"
      ]
    },
    {
      "cell_type": "code",
      "metadata": {
        "id": "mltE-yPKGdaf"
      },
      "source": [
        "#Vaš kod ide ovdje"
      ],
      "execution_count": null,
      "outputs": []
    },
    {
      "cell_type": "markdown",
      "metadata": {
        "id": "fzZ8zgxqGj_9"
      },
      "source": [
        "1.2 Koristeći dnevne povrate, potrebno je izračunati matricu kovarijance $\\Sigma$ i matricu korelacije $C$ svih ETF-ova. Kovarijancu i korelaciju moguće je iz podataka izračunati koristeći Pandas, ali i NumPy ili neke druge biblioteke. Matrice ispišite u konzolu ili vizualizirajte. "
      ]
    },
    {
      "cell_type": "code",
      "metadata": {
        "id": "kd6uSMtQw2Yu"
      },
      "source": [
        "#Vaš kod ide ovdje"
      ],
      "execution_count": null,
      "outputs": []
    },
    {
      "cell_type": "markdown",
      "metadata": {
        "id": "ZO3GqH2Y0Ky9"
      },
      "source": [
        "# Zadatak 2 - Analiza glavnih komponenti\n",
        "\n",
        "2.1. Izračunajte svojstvene vektore i pripadajuće svojstvene vrijednosti matrice kovarijance povrata $\\Sigma$ (svojstvenu dekompoziciju možete pronaći u sklopu biblioteke NumPy https://numpy.org/doc/stable/reference/generated/numpy.linalg.eig.html). Poredajte komponente padajući po svojstvenim vrijednostima i prikažite svojstvene vrijednosti grafički.\n"
      ]
    },
    {
      "cell_type": "code",
      "metadata": {
        "id": "UTo32HZi0JsP"
      },
      "source": [
        "#Vaš kod ide ovdje"
      ],
      "execution_count": null,
      "outputs": []
    },
    {
      "cell_type": "markdown",
      "metadata": {
        "id": "sp-II9bbH_CL"
      },
      "source": [
        "2.2. Izračunajte koliki udio varijance objašnjavaju prve dvije komponente?"
      ]
    },
    {
      "cell_type": "code",
      "metadata": {
        "id": "MPeVSO8AIpwp"
      },
      "source": [
        "#Vaš kod ide ovdje"
      ],
      "execution_count": null,
      "outputs": []
    },
    {
      "cell_type": "markdown",
      "metadata": {
        "id": "R_vvIr-aI1N_"
      },
      "source": [
        "2.3. Komponente PCA će u financijama često opisivati neke zajedničke faktore u podatcima, što je moguće analizirati promatranjem pojedinih elemenata svojstvenih vektora. Ako je neki element određenog svojstvenog vektora velik po magnitudi (pozitivan ili negativan), to znači da ta komponenta opisuje odgovarajuću vrijednosnicu i objašnjava njenu varijancu, za razliku od slučaja kad je element blizu 0, što znači da razmatrana vrijednosnica ne ovisi previše o toj komponenti.  Ispišite (ili grafički prikažite) elemente prva dva svojstvena vektora. Pritom pripazite na to što vraća funkcija koju koristite i u kojoj se dimenziji (stupac ili red) nalaze svojstveni vektori.\n",
        "\n",
        "S obzirom na to koje vrijednosnice opisuju prve dvije komponente, možete li zaključiti koju klasu imovine opisuje prva komponenta (koja odgovara prvom svojstvenom vektoru), a koju klasu druga komponenta? (*odgovor napišite u nastavku*)"
      ]
    },
    {
      "cell_type": "code",
      "metadata": {
        "id": "CnU85Ww0J1v2"
      },
      "source": [
        "#Vaš kod ide ovdje"
      ],
      "execution_count": null,
      "outputs": []
    },
    {
      "cell_type": "markdown",
      "metadata": {
        "id": "s8PSPkBbP59u"
      },
      "source": [
        "2.4. Ponovite prethodnu analizu za matricu korelacije povrata $C$. Koliki udio varijance u tom sučaju objašnjavaju prve dvije komponente? Usporedite elemente prva dva svojstvena vektora u ovom slučaju i u prethodnom slučaju - razlikuje li se interpretacija i kako? (*odgovor napišite u nastavku*)"
      ]
    },
    {
      "cell_type": "code",
      "metadata": {
        "id": "eGxj8yIEQcBj"
      },
      "source": [
        "#Vaš kod ide ovdje"
      ],
      "execution_count": null,
      "outputs": []
    },
    {
      "cell_type": "markdown",
      "metadata": {
        "id": "e2MEVouBJ8mg"
      },
      "source": [
        "# Zadatak 3 - Svojstveni portfelji\n",
        "\n",
        "U primjeni PCA i svojstvenoj dekompoziciji kovarijance u financijama, svojstveni vektori se često zovu i tzv. svojstveni portfelji. \n",
        "\n",
        "Općenito, portfelj je vektor $w = [w_1,...,w_N]$ u kojem svaki element predstavlja težinu ili udio kapitala u određenoj vrijednosnici. Često je dobro pomnožiti njihove težine s predznakom njihove sume - na taj način zapravo samo \"okrećemo\" predznak svojstvenog vektora tako da mu je suma pozitivna (konačni PCA rastav je i dalje isti ako svojstveni vektor pomnožimo s -1). Također, dobro je i skalirati svojstvene portfelje sa sumom njihovih apsolutnih vrijednosti:\n",
        "\n",
        "$\\tilde{w}_i = \\frac{w_i}{\\sum_j^N{\\vert w_j \\vert}}$.\n",
        "\n",
        "Na taj način se osigurava da visoke magnitude pojedinih elemenata ne uzrokuju velike razlike u volatilnostima svojstvenih portfelja.\n",
        "\n",
        "Ukoliko znamo povrate $R\\in\\mathbb{R}^{T\\times N}$ (gdje je $R_i\\in\\mathbb{R}^{T}$ vektor povrata za vrijednosnicu $i$) za $N$ vrijednosnica u nekom vremenskom periodu od $T$ dana, povrate portfelja $w$ u tom istom periodu možemo izračunati kao:\n",
        "\n",
        "$R_p = \\sum{R_i w_i} = R\\cdot w$.\n",
        "\n",
        "\n",
        "Izračunajte skalirane svojstvene portfelje $\\tilde{w}$ koji proizlaze iz prve dvije glavne komponente dobivene iz matrice kovarijance $\\Sigma$. Za ta dva svojstvena portfelja izračunajte povijesne povrate kroz razmatrani period. Grafički prikažite vremensko kretanje njihovih vrijednosti (njihove povrate \"vratite\" natrag u cijene, s tim da početna cijena bude jednak za oba portfelja, npr. 100). Također izračunajte anualizirane srednje vrijednosti i volatilnosti svojstvenih portfelja.\n",
        "\n"
      ]
    },
    {
      "cell_type": "code",
      "metadata": {
        "id": "Yo0rDm6GUrr2"
      },
      "source": [
        "#Vaš kod ide ovdje"
      ],
      "execution_count": null,
      "outputs": []
    },
    {
      "cell_type": "markdown",
      "metadata": {
        "id": "Q8kMOz4EUsgC"
      },
      "source": [
        "Ako usporedite dobivene rezultate s kretanjem cijena originalnih vrijednosnica, vidjet ćete sličnosti između vrijednosnica koje pripadaju određenim klasama imovina i pojedinih svojstvenih portfelja. Svojstveni portfelji dakle predstavljaju niže-dimenzionalan prostor tzv. sintetičkih vrijednosnica (u našem slučaju 2 umjesto originalnih 8) koje najbolje opisuju cijeli razmatrani skup podataka. Dobra procjena tih komponenti je ključna u razumijevanju zajedničkog kretanja većih skupova dionica i upravljanju financijskim rizikom."
      ]
    }
  ]
}